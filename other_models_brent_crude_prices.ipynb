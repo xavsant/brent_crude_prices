{
 "cells": [
  {
   "cell_type": "markdown",
   "metadata": {},
   "source": [
    "### Set-up"
   ]
  },
  {
   "cell_type": "code",
   "execution_count": 1,
   "metadata": {},
   "outputs": [],
   "source": [
    "# Imports\n",
    "import numpy as np\n",
    "from numpy import concatenate\n",
    "from pandas import read_csv, Series\n",
    "import matplotlib.pyplot as plt\n",
    "\n",
    "from sklearn.preprocessing import MinMaxScaler\n",
    "from sklearn.metrics import mean_absolute_error\n",
    "from sklearn.linear_model import LinearRegression\n",
    "from sklearn.ensemble import RandomForestRegressor\n",
    "from statsmodels.tsa.arima.model import ARIMA\n",
    "from statsmodels.tsa.statespace.sarimax import SARIMAX"
   ]
  },
  {
   "cell_type": "code",
   "execution_count": 2,
   "metadata": {},
   "outputs": [],
   "source": [
    "# Define global variables\n",
    "num_features = 53\n",
    "target_variable = 'POILBRE'\n",
    "lag_steps = 1"
   ]
  },
  {
   "cell_type": "code",
   "execution_count": 3,
   "metadata": {},
   "outputs": [
    {
     "name": "stdout",
     "output_type": "stream",
     "text": [
      "(294, 53)\n"
     ]
    },
    {
     "data": {
      "text/html": [
       "<div>\n",
       "<style scoped>\n",
       "    .dataframe tbody tr th:only-of-type {\n",
       "        vertical-align: middle;\n",
       "    }\n",
       "\n",
       "    .dataframe tbody tr th {\n",
       "        vertical-align: top;\n",
       "    }\n",
       "\n",
       "    .dataframe thead th {\n",
       "        text-align: right;\n",
       "    }\n",
       "</style>\n",
       "<table border=\"1\" class=\"dataframe\">\n",
       "  <thead>\n",
       "    <tr style=\"text-align: right;\">\n",
       "      <th></th>\n",
       "      <th>PALUM</th>\n",
       "      <th>PBANSOP</th>\n",
       "      <th>PBARL</th>\n",
       "      <th>PBEEF</th>\n",
       "      <th>PCOALAU</th>\n",
       "      <th>PCOCO</th>\n",
       "      <th>PCOFFOTM</th>\n",
       "      <th>PCOFFROB</th>\n",
       "      <th>PROIL</th>\n",
       "      <th>PCOPP</th>\n",
       "      <th>...</th>\n",
       "      <th>PSUGAISA</th>\n",
       "      <th>PSUGAUSA</th>\n",
       "      <th>PSUNO</th>\n",
       "      <th>PTEA</th>\n",
       "      <th>PTIN</th>\n",
       "      <th>PURAN</th>\n",
       "      <th>PWHEAMT</th>\n",
       "      <th>PWOOLC</th>\n",
       "      <th>PWOOLF</th>\n",
       "      <th>PZINC</th>\n",
       "    </tr>\n",
       "    <tr>\n",
       "      <th>Commodity</th>\n",
       "      <th></th>\n",
       "      <th></th>\n",
       "      <th></th>\n",
       "      <th></th>\n",
       "      <th></th>\n",
       "      <th></th>\n",
       "      <th></th>\n",
       "      <th></th>\n",
       "      <th></th>\n",
       "      <th></th>\n",
       "      <th></th>\n",
       "      <th></th>\n",
       "      <th></th>\n",
       "      <th></th>\n",
       "      <th></th>\n",
       "      <th></th>\n",
       "      <th></th>\n",
       "      <th></th>\n",
       "      <th></th>\n",
       "      <th></th>\n",
       "      <th></th>\n",
       "    </tr>\n",
       "  </thead>\n",
       "  <tbody>\n",
       "    <tr>\n",
       "      <th>1993M1</th>\n",
       "      <td>1208.10</td>\n",
       "      <td>524.92</td>\n",
       "      <td>75.08</td>\n",
       "      <td>106.80</td>\n",
       "      <td>35.0</td>\n",
       "      <td>1035.57</td>\n",
       "      <td>68.66</td>\n",
       "      <td>48.13</td>\n",
       "      <td>425.93</td>\n",
       "      <td>2264.21</td>\n",
       "      <td>...</td>\n",
       "      <td>8.24</td>\n",
       "      <td>20.76</td>\n",
       "      <td>582.52</td>\n",
       "      <td>239.49</td>\n",
       "      <td>5913.10</td>\n",
       "      <td>9.80</td>\n",
       "      <td>155.65</td>\n",
       "      <td>312.39</td>\n",
       "      <td>495.22</td>\n",
       "      <td>1067.57</td>\n",
       "    </tr>\n",
       "    <tr>\n",
       "      <th>1993M2</th>\n",
       "      <td>1203.15</td>\n",
       "      <td>585.61</td>\n",
       "      <td>74.83</td>\n",
       "      <td>108.32</td>\n",
       "      <td>31.0</td>\n",
       "      <td>990.99</td>\n",
       "      <td>67.46</td>\n",
       "      <td>48.25</td>\n",
       "      <td>419.78</td>\n",
       "      <td>2212.18</td>\n",
       "      <td>...</td>\n",
       "      <td>8.56</td>\n",
       "      <td>21.05</td>\n",
       "      <td>570.79</td>\n",
       "      <td>203.56</td>\n",
       "      <td>5792.75</td>\n",
       "      <td>10.10</td>\n",
       "      <td>148.88</td>\n",
       "      <td>309.68</td>\n",
       "      <td>469.37</td>\n",
       "      <td>1073.63</td>\n",
       "    </tr>\n",
       "    <tr>\n",
       "      <th>1993M3</th>\n",
       "      <td>1150.48</td>\n",
       "      <td>659.00</td>\n",
       "      <td>75.16</td>\n",
       "      <td>114.59</td>\n",
       "      <td>31.0</td>\n",
       "      <td>977.32</td>\n",
       "      <td>62.77</td>\n",
       "      <td>46.86</td>\n",
       "      <td>435.22</td>\n",
       "      <td>2152.38</td>\n",
       "      <td>...</td>\n",
       "      <td>10.62</td>\n",
       "      <td>21.57</td>\n",
       "      <td>574.59</td>\n",
       "      <td>190.48</td>\n",
       "      <td>5666.30</td>\n",
       "      <td>10.20</td>\n",
       "      <td>147.90</td>\n",
       "      <td>309.67</td>\n",
       "      <td>469.37</td>\n",
       "      <td>996.76</td>\n",
       "    </tr>\n",
       "    <tr>\n",
       "      <th>1993M4</th>\n",
       "      <td>1110.28</td>\n",
       "      <td>563.70</td>\n",
       "      <td>77.45</td>\n",
       "      <td>117.57</td>\n",
       "      <td>31.0</td>\n",
       "      <td>1010.75</td>\n",
       "      <td>56.88</td>\n",
       "      <td>45.51</td>\n",
       "      <td>454.70</td>\n",
       "      <td>1953.62</td>\n",
       "      <td>...</td>\n",
       "      <td>11.15</td>\n",
       "      <td>21.69</td>\n",
       "      <td>607.14</td>\n",
       "      <td>177.75</td>\n",
       "      <td>5596.50</td>\n",
       "      <td>10.35</td>\n",
       "      <td>141.99</td>\n",
       "      <td>328.92</td>\n",
       "      <td>429.69</td>\n",
       "      <td>1006.00</td>\n",
       "    </tr>\n",
       "    <tr>\n",
       "      <th>1993M5</th>\n",
       "      <td>1125.42</td>\n",
       "      <td>461.60</td>\n",
       "      <td>77.46</td>\n",
       "      <td>121.39</td>\n",
       "      <td>31.0</td>\n",
       "      <td>998.07</td>\n",
       "      <td>61.48</td>\n",
       "      <td>46.91</td>\n",
       "      <td>436.65</td>\n",
       "      <td>1799.35</td>\n",
       "      <td>...</td>\n",
       "      <td>11.83</td>\n",
       "      <td>21.36</td>\n",
       "      <td>640.15</td>\n",
       "      <td>172.86</td>\n",
       "      <td>5505.47</td>\n",
       "      <td>10.10</td>\n",
       "      <td>136.58</td>\n",
       "      <td>337.01</td>\n",
       "      <td>468.13</td>\n",
       "      <td>979.26</td>\n",
       "    </tr>\n",
       "  </tbody>\n",
       "</table>\n",
       "<p>5 rows × 53 columns</p>\n",
       "</div>"
      ],
      "text/plain": [
       "             PALUM  PBANSOP  PBARL   PBEEF  PCOALAU    PCOCO  PCOFFOTM  \\\n",
       "Commodity                                                                \n",
       "1993M1     1208.10   524.92  75.08  106.80     35.0  1035.57     68.66   \n",
       "1993M2     1203.15   585.61  74.83  108.32     31.0   990.99     67.46   \n",
       "1993M3     1150.48   659.00  75.16  114.59     31.0   977.32     62.77   \n",
       "1993M4     1110.28   563.70  77.45  117.57     31.0  1010.75     56.88   \n",
       "1993M5     1125.42   461.60  77.46  121.39     31.0   998.07     61.48   \n",
       "\n",
       "           PCOFFROB   PROIL    PCOPP  ...  PSUGAISA  PSUGAUSA   PSUNO    PTEA  \\\n",
       "Commodity                             ...                                       \n",
       "1993M1        48.13  425.93  2264.21  ...      8.24     20.76  582.52  239.49   \n",
       "1993M2        48.25  419.78  2212.18  ...      8.56     21.05  570.79  203.56   \n",
       "1993M3        46.86  435.22  2152.38  ...     10.62     21.57  574.59  190.48   \n",
       "1993M4        45.51  454.70  1953.62  ...     11.15     21.69  607.14  177.75   \n",
       "1993M5        46.91  436.65  1799.35  ...     11.83     21.36  640.15  172.86   \n",
       "\n",
       "              PTIN  PURAN  PWHEAMT  PWOOLC  PWOOLF    PZINC  \n",
       "Commodity                                                    \n",
       "1993M1     5913.10   9.80   155.65  312.39  495.22  1067.57  \n",
       "1993M2     5792.75  10.10   148.88  309.68  469.37  1073.63  \n",
       "1993M3     5666.30  10.20   147.90  309.67  469.37   996.76  \n",
       "1993M4     5596.50  10.35   141.99  328.92  429.69  1006.00  \n",
       "1993M5     5505.47  10.10   136.58  337.01  468.13   979.26  \n",
       "\n",
       "[5 rows x 53 columns]"
      ]
     },
     "execution_count": 3,
     "metadata": {},
     "output_type": "execute_result"
    }
   ],
   "source": [
    "df = read_csv('data/dataset.csv', header = 0, index_col = 0, usecols = [i for i in range(0, num_features+1)])\n",
    "df.dropna(inplace=True) # NA values after June 2017\n",
    "print(df.shape)\n",
    "df.head()"
   ]
  },
  {
   "cell_type": "code",
   "execution_count": 4,
   "metadata": {},
   "outputs": [
    {
     "name": "stdout",
     "output_type": "stream",
     "text": [
      "(293, 54)\n"
     ]
    },
    {
     "data": {
      "text/html": [
       "<div>\n",
       "<style scoped>\n",
       "    .dataframe tbody tr th:only-of-type {\n",
       "        vertical-align: middle;\n",
       "    }\n",
       "\n",
       "    .dataframe tbody tr th {\n",
       "        vertical-align: top;\n",
       "    }\n",
       "\n",
       "    .dataframe thead th {\n",
       "        text-align: right;\n",
       "    }\n",
       "</style>\n",
       "<table border=\"1\" class=\"dataframe\">\n",
       "  <thead>\n",
       "    <tr style=\"text-align: right;\">\n",
       "      <th></th>\n",
       "      <th>PALUM(t-1)</th>\n",
       "      <th>PBANSOP(t-1)</th>\n",
       "      <th>PBARL(t-1)</th>\n",
       "      <th>PBEEF(t-1)</th>\n",
       "      <th>PCOALAU(t-1)</th>\n",
       "      <th>PCOCO(t-1)</th>\n",
       "      <th>PCOFFOTM(t-1)</th>\n",
       "      <th>PCOFFROB(t-1)</th>\n",
       "      <th>PROIL(t-1)</th>\n",
       "      <th>PCOPP(t-1)</th>\n",
       "      <th>...</th>\n",
       "      <th>PSUGAUSA(t-1)</th>\n",
       "      <th>PSUNO(t-1)</th>\n",
       "      <th>PTEA(t-1)</th>\n",
       "      <th>PTIN(t-1)</th>\n",
       "      <th>PURAN(t-1)</th>\n",
       "      <th>PWHEAMT(t-1)</th>\n",
       "      <th>PWOOLC(t-1)</th>\n",
       "      <th>PWOOLF(t-1)</th>\n",
       "      <th>PZINC(t-1)</th>\n",
       "      <th>POILBRE(t)</th>\n",
       "    </tr>\n",
       "    <tr>\n",
       "      <th>Commodity</th>\n",
       "      <th></th>\n",
       "      <th></th>\n",
       "      <th></th>\n",
       "      <th></th>\n",
       "      <th></th>\n",
       "      <th></th>\n",
       "      <th></th>\n",
       "      <th></th>\n",
       "      <th></th>\n",
       "      <th></th>\n",
       "      <th></th>\n",
       "      <th></th>\n",
       "      <th></th>\n",
       "      <th></th>\n",
       "      <th></th>\n",
       "      <th></th>\n",
       "      <th></th>\n",
       "      <th></th>\n",
       "      <th></th>\n",
       "      <th></th>\n",
       "      <th></th>\n",
       "    </tr>\n",
       "  </thead>\n",
       "  <tbody>\n",
       "    <tr>\n",
       "      <th>1993M2</th>\n",
       "      <td>1208.10</td>\n",
       "      <td>524.92</td>\n",
       "      <td>75.08</td>\n",
       "      <td>106.80</td>\n",
       "      <td>35.0</td>\n",
       "      <td>1035.57</td>\n",
       "      <td>68.66</td>\n",
       "      <td>48.13</td>\n",
       "      <td>425.93</td>\n",
       "      <td>2264.21</td>\n",
       "      <td>...</td>\n",
       "      <td>20.76</td>\n",
       "      <td>582.52</td>\n",
       "      <td>239.49</td>\n",
       "      <td>5913.10</td>\n",
       "      <td>9.80</td>\n",
       "      <td>155.65</td>\n",
       "      <td>312.39</td>\n",
       "      <td>495.22</td>\n",
       "      <td>1067.57</td>\n",
       "      <td>18.48</td>\n",
       "    </tr>\n",
       "    <tr>\n",
       "      <th>1993M3</th>\n",
       "      <td>1203.15</td>\n",
       "      <td>585.61</td>\n",
       "      <td>74.83</td>\n",
       "      <td>108.32</td>\n",
       "      <td>31.0</td>\n",
       "      <td>990.99</td>\n",
       "      <td>67.46</td>\n",
       "      <td>48.25</td>\n",
       "      <td>419.78</td>\n",
       "      <td>2212.18</td>\n",
       "      <td>...</td>\n",
       "      <td>21.05</td>\n",
       "      <td>570.79</td>\n",
       "      <td>203.56</td>\n",
       "      <td>5792.75</td>\n",
       "      <td>10.10</td>\n",
       "      <td>148.88</td>\n",
       "      <td>309.68</td>\n",
       "      <td>469.37</td>\n",
       "      <td>1073.63</td>\n",
       "      <td>18.75</td>\n",
       "    </tr>\n",
       "    <tr>\n",
       "      <th>1993M4</th>\n",
       "      <td>1150.48</td>\n",
       "      <td>659.00</td>\n",
       "      <td>75.16</td>\n",
       "      <td>114.59</td>\n",
       "      <td>31.0</td>\n",
       "      <td>977.32</td>\n",
       "      <td>62.77</td>\n",
       "      <td>46.86</td>\n",
       "      <td>435.22</td>\n",
       "      <td>2152.38</td>\n",
       "      <td>...</td>\n",
       "      <td>21.57</td>\n",
       "      <td>574.59</td>\n",
       "      <td>190.48</td>\n",
       "      <td>5666.30</td>\n",
       "      <td>10.20</td>\n",
       "      <td>147.90</td>\n",
       "      <td>309.67</td>\n",
       "      <td>469.37</td>\n",
       "      <td>996.76</td>\n",
       "      <td>18.63</td>\n",
       "    </tr>\n",
       "    <tr>\n",
       "      <th>1993M5</th>\n",
       "      <td>1110.28</td>\n",
       "      <td>563.70</td>\n",
       "      <td>77.45</td>\n",
       "      <td>117.57</td>\n",
       "      <td>31.0</td>\n",
       "      <td>1010.75</td>\n",
       "      <td>56.88</td>\n",
       "      <td>45.51</td>\n",
       "      <td>454.70</td>\n",
       "      <td>1953.62</td>\n",
       "      <td>...</td>\n",
       "      <td>21.69</td>\n",
       "      <td>607.14</td>\n",
       "      <td>177.75</td>\n",
       "      <td>5596.50</td>\n",
       "      <td>10.35</td>\n",
       "      <td>141.99</td>\n",
       "      <td>328.92</td>\n",
       "      <td>429.69</td>\n",
       "      <td>1006.00</td>\n",
       "      <td>18.51</td>\n",
       "    </tr>\n",
       "    <tr>\n",
       "      <th>1993M6</th>\n",
       "      <td>1125.42</td>\n",
       "      <td>461.60</td>\n",
       "      <td>77.46</td>\n",
       "      <td>121.39</td>\n",
       "      <td>31.0</td>\n",
       "      <td>998.07</td>\n",
       "      <td>61.48</td>\n",
       "      <td>46.91</td>\n",
       "      <td>436.65</td>\n",
       "      <td>1799.35</td>\n",
       "      <td>...</td>\n",
       "      <td>21.36</td>\n",
       "      <td>640.15</td>\n",
       "      <td>172.86</td>\n",
       "      <td>5505.47</td>\n",
       "      <td>10.10</td>\n",
       "      <td>136.58</td>\n",
       "      <td>337.01</td>\n",
       "      <td>468.13</td>\n",
       "      <td>979.26</td>\n",
       "      <td>17.59</td>\n",
       "    </tr>\n",
       "  </tbody>\n",
       "</table>\n",
       "<p>5 rows × 54 columns</p>\n",
       "</div>"
      ],
      "text/plain": [
       "           PALUM(t-1)  PBANSOP(t-1)  PBARL(t-1)  PBEEF(t-1)  PCOALAU(t-1)  \\\n",
       "Commodity                                                                   \n",
       "1993M2        1208.10        524.92       75.08      106.80          35.0   \n",
       "1993M3        1203.15        585.61       74.83      108.32          31.0   \n",
       "1993M4        1150.48        659.00       75.16      114.59          31.0   \n",
       "1993M5        1110.28        563.70       77.45      117.57          31.0   \n",
       "1993M6        1125.42        461.60       77.46      121.39          31.0   \n",
       "\n",
       "           PCOCO(t-1)  PCOFFOTM(t-1)  PCOFFROB(t-1)  PROIL(t-1)  PCOPP(t-1)  \\\n",
       "Commodity                                                                     \n",
       "1993M2        1035.57          68.66          48.13      425.93     2264.21   \n",
       "1993M3         990.99          67.46          48.25      419.78     2212.18   \n",
       "1993M4         977.32          62.77          46.86      435.22     2152.38   \n",
       "1993M5        1010.75          56.88          45.51      454.70     1953.62   \n",
       "1993M6         998.07          61.48          46.91      436.65     1799.35   \n",
       "\n",
       "           ...  PSUGAUSA(t-1)  PSUNO(t-1)  PTEA(t-1)  PTIN(t-1)  PURAN(t-1)  \\\n",
       "Commodity  ...                                                                \n",
       "1993M2     ...          20.76      582.52     239.49    5913.10        9.80   \n",
       "1993M3     ...          21.05      570.79     203.56    5792.75       10.10   \n",
       "1993M4     ...          21.57      574.59     190.48    5666.30       10.20   \n",
       "1993M5     ...          21.69      607.14     177.75    5596.50       10.35   \n",
       "1993M6     ...          21.36      640.15     172.86    5505.47       10.10   \n",
       "\n",
       "           PWHEAMT(t-1)  PWOOLC(t-1)  PWOOLF(t-1)  PZINC(t-1)  POILBRE(t)  \n",
       "Commodity                                                                  \n",
       "1993M2           155.65       312.39       495.22     1067.57       18.48  \n",
       "1993M3           148.88       309.68       469.37     1073.63       18.75  \n",
       "1993M4           147.90       309.67       469.37      996.76       18.63  \n",
       "1993M5           141.99       328.92       429.69     1006.00       18.51  \n",
       "1993M6           136.58       337.01       468.13      979.26       17.59  \n",
       "\n",
       "[5 rows x 54 columns]"
      ]
     },
     "execution_count": 4,
     "metadata": {},
     "output_type": "execute_result"
    }
   ],
   "source": [
    "df_transformed = read_csv('data/dataset_transformed.csv', index_col = 0)\n",
    "print(df_transformed.shape)\n",
    "df_transformed.head()"
   ]
  },
  {
   "cell_type": "code",
   "execution_count": null,
   "metadata": {},
   "outputs": [],
   "source": [
    "# Train-Test Split\n",
    "split = int(df_transformed.shape[0]*0.8)\n",
    "train = df_transformed[:split]\n",
    "test = df_transformed[split:]"
   ]
  },
  {
   "cell_type": "code",
   "execution_count": 23,
   "metadata": {},
   "outputs": [],
   "source": [
    "# Scaled version for LR (not necessary) and SARIMAX\n",
    "# Scale to avoid distance calculation bias\n",
    "scaler = MinMaxScaler(feature_range=(0, 1))\n",
    "train_scaled = scaler.fit_transform(train)\n",
    "test_scaled = scaler.transform(test) # Avoid data leakage\n",
    "\n",
    "# Separate into features and target (last column)\n",
    "X_train_scaled, y_train_scaled = train_scaled[:, :-1], train_scaled[:, -1]\n",
    "X_test_scaled, y_test_scaled = test_scaled[:, :-1], test_scaled[:, -1]"
   ]
  },
  {
   "cell_type": "code",
   "execution_count": 24,
   "metadata": {},
   "outputs": [],
   "source": [
    "# Non-scaled version for RF and ARIMA\n",
    "X_train, y_train = train.iloc[:, :-1], train.iloc[:, -1]\n",
    "X_test, y_test = test.iloc[:, :-1], test.iloc[:, -1]"
   ]
  },
  {
   "cell_type": "markdown",
   "metadata": {},
   "source": [
    "### Linear Regression"
   ]
  },
  {
   "cell_type": "code",
   "execution_count": 53,
   "metadata": {},
   "outputs": [],
   "source": [
    "lr_model = LinearRegression()\n",
    "lr_model.fit(X_train_scaled, y_train_scaled)\n",
    "y_pred = lr_model.predict(X_test_scaled)"
   ]
  },
  {
   "cell_type": "code",
   "execution_count": 70,
   "metadata": {},
   "outputs": [],
   "source": [
    "# Reshape y_pred to match scaler input format\n",
    "y_pred_reshaped = y_pred.reshape(-1, 1)\n",
    "\n",
    "# Inverse scaling\n",
    "y_pred_inverse = scaler.inverse_transform(\n",
    "    np.hstack((X_test_scaled, y_pred_reshaped))\n",
    "    )[:, -1]\n",
    "y_pred_inverse_df = Series(y_pred_inverse, index=y_test.index)"
   ]
  },
  {
   "cell_type": "code",
   "execution_count": null,
   "metadata": {},
   "outputs": [
    {
     "name": "stdout",
     "output_type": "stream",
     "text": [
      "Linear Regression Test MAE: 13.473\n"
     ]
    },
    {
     "data": {
      "image/png": "[encoded data removed]",
      "text/plain": [
       "<Figure size 640x480 with 1 Axes>"
      ]
     },
     "metadata": {},
     "output_type": "display_data"
    }
   ],
   "source": [
    "mae = mean_absolute_error(y_test, y_pred_inverse_df)\n",
    "print('Linear Regression Test MAE: %.3f' % mae)\n",
    "plt.plot(y_test, label = 'Actual')\n",
    "plt.plot(y_pred_inverse_df, label = 'Predicted')\n",
    "plt.legend()\n",
    "plt.show()"
   ]
  },
  {
   "cell_type": "markdown",
   "metadata": {},
   "source": [
    "#### Linear Regression (not scaled)"
   ]
  },
  {
   "cell_type": "code",
   "execution_count": 74,
   "metadata": {},
   "outputs": [
    {
     "name": "stdout",
     "output_type": "stream",
     "text": [
      "Linear Regression Test MAE: 13.473\n"
     ]
    }
   ],
   "source": [
    "lr_model = LinearRegression()\n",
    "lr_model.fit(X_train, y_train)\n",
    "y_pred = lr_model.predict(X_test)\n",
    "mae = mean_absolute_error(y_test, y_pred)\n",
    "print('Linear Regression Test MAE: %.3f' % mae)"
   ]
  },
  {
   "cell_type": "markdown",
   "metadata": {},
   "source": [
    "For learning purposes, note that there is no difference in MAE between the scaled and non-scaled linear regression model. If we were to use a regularised linear regression model (LASSO, RIDGE, etc.), then the lack of scaling may introduced biases."
   ]
  },
  {
   "cell_type": "markdown",
   "metadata": {},
   "source": [
    "### Random Forest"
   ]
  },
  {
   "cell_type": "code",
   "execution_count": 33,
   "metadata": {},
   "outputs": [],
   "source": [
    "rf_model = RandomForestRegressor(n_estimators=175, random_state=42)\n",
    "rf_model.fit(X_train, y_train)\n",
    "y_pred = rf_model.predict(X_test)\n",
    "mae = mean_absolute_error(y_test, y_pred)"
   ]
  },
  {
   "cell_type": "code",
   "execution_count": 34,
   "metadata": {},
   "outputs": [
    {
     "name": "stdout",
     "output_type": "stream",
     "text": [
      "Random Forest Test MAE: 11.440\n"
     ]
    },
    {
     "data": {
      "image/png": "[encoded data removed]",
      "text/plain": [
       "<Figure size 640x480 with 1 Axes>"
      ]
     },
     "metadata": {},
     "output_type": "display_data"
    }
   ],
   "source": [
    "print('Random Forest Test MAE: %.3f' % mae)\n",
    "plt.plot(y_test, label = 'Actual')\n",
    "plt.plot(y_pred, label = 'Predicted')\n",
    "plt.xticks(np.arange(0, 60, 12))  # Set ticks every 12 months\n",
    "plt.legend()\n",
    "plt.show()"
   ]
  },
  {
   "cell_type": "markdown",
   "metadata": {},
   "source": [
    "### ARIMA"
   ]
  },
  {
   "cell_type": "code",
   "execution_count": 35,
   "metadata": {},
   "outputs": [],
   "source": [
    "from pandas import to_datetime\n",
    "\n",
    "# Convert y_train index to datetime\n",
    "y_train_idx = y_train.index\n",
    "\n",
    "# Convert 'YYYYM' format to 'YYYY-MM' by replacing 'M' with '-'\n",
    "datetime_strings = [item.replace('M', '-') for item in y_train_idx]\n",
    "datetime_objects = to_datetime(datetime_strings, format=\"%Y-%m\")\n",
    "\n",
    "y_train.index = datetime_objects"
   ]
  },
  {
   "cell_type": "code",
   "execution_count": 36,
   "metadata": {},
   "outputs": [],
   "source": [
    "# Convert y_test index to datetime\n",
    "y_test_idx = y_test.index\n",
    "\n",
    "# Convert 'YYYYM' format to 'YYYY-MM' by replacing 'M' with '-'\n",
    "datetime_strings = [item.replace('M', '-') for item in y_test_idx]\n",
    "datetime_objects = to_datetime(datetime_strings, format=\"%Y-%m\")\n",
    "\n",
    "y_test.index = datetime_objects"
   ]
  },
  {
   "cell_type": "code",
   "execution_count": 37,
   "metadata": {},
   "outputs": [
    {
     "name": "stderr",
     "output_type": "stream",
     "text": [
      "/Users/xaviersan/.pyenv/versions/brent/lib/python3.11/site-packages/statsmodels/tsa/base/tsa_model.py:473: ValueWarning: No frequency information was provided, so inferred frequency MS will be used.\n",
      "  self._init_dates(dates, freq)\n"
     ]
    }
   ],
   "source": [
    "arima_model = ARIMA(y_train, order=(3,0,0), freq='MS')\n",
    "arima_model_fit = arima_model.fit()\n",
    "y_pred = arima_model_fit.forecast(len(y_test))\n",
    "mae = mean_absolute_error(y_test, y_pred)"
   ]
  },
  {
   "cell_type": "code",
   "execution_count": 38,
   "metadata": {},
   "outputs": [
    {
     "name": "stdout",
     "output_type": "stream",
     "text": [
      "ARIMA Test MAE: 17.985\n"
     ]
    },
    {
     "data": {
      "image/png": "[encoded data removed]",
      "text/plain": [
       "<Figure size 640x480 with 1 Axes>"
      ]
     },
     "metadata": {},
     "output_type": "display_data"
    }
   ],
   "source": [
    "print('ARIMA Test MAE: %.3f' % mae)\n",
    "plt.plot(y_test, label = 'Actual')\n",
    "plt.plot(y_pred, label = 'Predicted')\n",
    "plt.legend()\n",
    "plt.show()"
   ]
  },
  {
   "cell_type": "markdown",
   "metadata": {},
   "source": [
    "### SARIMA"
   ]
  },
  {
   "cell_type": "code",
   "execution_count": 39,
   "metadata": {},
   "outputs": [
    {
     "name": "stderr",
     "output_type": "stream",
     "text": [
      "/Users/xaviersan/.pyenv/versions/brent/lib/python3.11/site-packages/statsmodels/tsa/base/tsa_model.py:473: ValueWarning: No frequency information was provided, so inferred frequency MS will be used.\n",
      "  self._init_dates(dates, freq)\n",
      "/Users/xaviersan/.pyenv/versions/brent/lib/python3.11/site-packages/statsmodels/tsa/base/tsa_model.py:473: ValueWarning: No frequency information was provided, so inferred frequency MS will be used.\n",
      "  self._init_dates(dates, freq)\n",
      " This problem is unconstrained.\n"
     ]
    },
    {
     "name": "stdout",
     "output_type": "stream",
     "text": [
      "RUNNING THE L-BFGS-B CODE\n",
      "\n",
      "           * * *\n",
      "\n",
      "Machine precision = 2.220D-16\n",
      " N =            8     M =           10\n",
      "\n",
      "At X0         0 variables are exactly at the bounds\n",
      "\n",
      "At iterate    0    f=  2.82296D+00    |proj g|=  4.60239D-01\n",
      "\n",
      "At iterate    5    f=  2.53677D+00    |proj g|=  1.45040D-01\n",
      "\n",
      "At iterate   10    f=  2.52833D+00    |proj g|=  3.69881D-02\n",
      "\n",
      "At iterate   15    f=  2.51001D+00    |proj g|=  2.07178D-01\n",
      "\n",
      "At iterate   20    f=  2.50728D+00    |proj g|=  1.66688D-02\n",
      "\n",
      "At iterate   25    f=  2.50703D+00    |proj g|=  4.76899D-03\n",
      "\n",
      "At iterate   30    f=  2.50696D+00    |proj g|=  3.16033D-02\n",
      "\n",
      "At iterate   35    f=  2.50691D+00    |proj g|=  8.45205D-04\n",
      "\n",
      "           * * *\n",
      "\n",
      "Tit   = total number of iterations\n",
      "Tnf   = total number of function evaluations\n",
      "Tnint = total number of segments explored during Cauchy searches\n",
      "Skip  = number of BFGS updates skipped\n",
      "Nact  = number of active bounds at final generalized Cauchy point\n",
      "Projg = norm of the final projected gradient\n",
      "F     = final function value\n",
      "\n",
      "           * * *\n",
      "\n",
      "   N    Tit     Tnf  Tnint  Skip  Nact     Projg        F\n",
      "    8     38     44      1     0     0   3.542D-05   2.507D+00\n",
      "  F =   2.5069110986217908     \n",
      "\n",
      "CONVERGENCE: REL_REDUCTION_OF_F_<=_FACTR*EPSMCH             \n"
     ]
    }
   ],
   "source": [
    "sarima_model = SARIMAX(y_train, \n",
    "                order=(3, 0, 2),\n",
    "                seasonal_order=(0, 1, 2, 12),  # seasonal AR, seasonal differencing, seasonal MA, period\n",
    "                enforce_stationarity=False,    # Allow non-stationarity\n",
    "                enforce_invertibility=False)   # Allow non-invertibility\n",
    "sarima_model_fit = sarima_model.fit()\n",
    "y_pred = sarima_model_fit.forecast(len(y_test))\n",
    "mae = mean_absolute_error(y_test, y_pred)\n"
   ]
  },
  {
   "cell_type": "code",
   "execution_count": 40,
   "metadata": {},
   "outputs": [
    {
     "name": "stdout",
     "output_type": "stream",
     "text": [
      "SARIMA Test MAE: 21.087\n"
     ]
    },
    {
     "data": {
      "image/png": "[encoded data removed]",
      "text/plain": [
       "<Figure size 640x480 with 1 Axes>"
      ]
     },
     "metadata": {},
     "output_type": "display_data"
    }
   ],
   "source": [
    "print('SARIMA Test MAE: %.3f' % mae)\n",
    "plt.plot(y_test, label = 'Actual')\n",
    "plt.plot(y_pred, label = 'Predicted')\n",
    "plt.legend()\n",
    "plt.show()"
   ]
  },
  {
   "cell_type": "markdown",
   "metadata": {},
   "source": [
    "### SARIMAX"
   ]
  },
  {
   "cell_type": "code",
   "execution_count": 41,
   "metadata": {},
   "outputs": [],
   "source": [
    "# Convert X_train index to datetime\n",
    "X_train_idx = X_train.index\n",
    "\n",
    "# Convert 'YYYYM' format to 'YYYY-MM' by replacing 'M' with '-'\n",
    "datetime_strings = [item.replace('M', '-') for item in X_train_idx]\n",
    "datetime_objects = to_datetime(datetime_strings, format=\"%Y-%m\")\n",
    "\n",
    "X_train.index = datetime_objects"
   ]
  },
  {
   "cell_type": "code",
   "execution_count": 42,
   "metadata": {},
   "outputs": [],
   "source": [
    "# Convert X_test index to datetime\n",
    "X_test_idx = X_test.index\n",
    "\n",
    "# Convert 'YYYYM' format to 'YYYY-MM' by replacing 'M' with '-'\n",
    "datetime_strings = [item.replace('M', '-') for item in X_test_idx]\n",
    "datetime_objects = to_datetime(datetime_strings, format=\"%Y-%m\")\n",
    "\n",
    "X_test.index = datetime_objects"
   ]
  },
  {
   "cell_type": "code",
   "execution_count": 47,
   "metadata": {},
   "outputs": [
    {
     "name": "stderr",
     "output_type": "stream",
     "text": [
      "/Users/xaviersan/.pyenv/versions/brent/lib/python3.11/site-packages/statsmodels/tsa/base/tsa_model.py:473: ValueWarning: No frequency information was provided, so inferred frequency MS will be used.\n",
      "  self._init_dates(dates, freq)\n",
      "/Users/xaviersan/.pyenv/versions/brent/lib/python3.11/site-packages/statsmodels/tsa/base/tsa_model.py:473: ValueWarning: No frequency information was provided, so inferred frequency MS will be used.\n",
      "  self._init_dates(dates, freq)\n"
     ]
    },
    {
     "name": "stdout",
     "output_type": "stream",
     "text": [
      "RUNNING THE L-BFGS-B CODE\n",
      "\n",
      "           * * *\n",
      "\n",
      "Machine precision = 2.220D-16\n",
      " N =           59     M =           10\n",
      "\n",
      "At X0         0 variables are exactly at the bounds\n",
      "\n",
      "At iterate    0    f=  2.29595D+00    |proj g|=  1.33765D-01\n"
     ]
    },
    {
     "name": "stderr",
     "output_type": "stream",
     "text": [
      " This problem is unconstrained.\n"
     ]
    },
    {
     "name": "stdout",
     "output_type": "stream",
     "text": [
      "\n",
      "At iterate    5    f=  2.26624D+00    |proj g|=  1.62328D-02\n",
      "\n",
      "At iterate   10    f=  2.25581D+00    |proj g|=  2.47529D-02\n",
      "\n",
      "At iterate   15    f=  2.22510D+00    |proj g|=  2.72761D-02\n",
      "\n",
      "At iterate   20    f=  2.21714D+00    |proj g|=  1.84573D-02\n",
      "\n",
      "At iterate   25    f=  2.21263D+00    |proj g|=  8.04130D-03\n",
      "\n",
      "At iterate   30    f=  2.20777D+00    |proj g|=  3.04731D-02\n",
      "\n",
      "At iterate   35    f=  2.20242D+00    |proj g|=  1.38241D-02\n",
      "\n",
      "At iterate   40    f=  2.19911D+00    |proj g|=  1.66992D-02\n",
      "\n",
      "At iterate   45    f=  2.19560D+00    |proj g|=  5.34831D-03\n",
      "\n",
      "At iterate   50    f=  2.19422D+00    |proj g|=  1.06185D-02\n",
      "\n",
      "At iterate   55    f=  2.19126D+00    |proj g|=  1.96650D-02\n",
      "\n",
      "At iterate   60    f=  2.18967D+00    |proj g|=  1.62130D-02\n",
      "\n",
      "At iterate   65    f=  2.18639D+00    |proj g|=  1.22675D-02\n",
      "\n",
      "At iterate   70    f=  2.18116D+00    |proj g|=  1.83041D-02\n"
     ]
    },
    {
     "name": "stderr",
     "output_type": "stream",
     "text": [
      "/Users/xaviersan/.pyenv/versions/brent/lib/python3.11/site-packages/statsmodels/base/model.py:607: ConvergenceWarning: Maximum Likelihood optimization failed to converge. Check mle_retvals\n",
      "  warnings.warn(\"Maximum Likelihood optimization failed to \"\n"
     ]
    },
    {
     "name": "stdout",
     "output_type": "stream",
     "text": [
      "\n",
      "At iterate   75    f=  2.17872D+00    |proj g|=  1.36864D-02\n",
      "\n",
      "           * * *\n",
      "\n",
      "Tit   = total number of iterations\n",
      "Tnf   = total number of function evaluations\n",
      "Tnint = total number of segments explored during Cauchy searches\n",
      "Skip  = number of BFGS updates skipped\n",
      "Nact  = number of active bounds at final generalized Cauchy point\n",
      "Projg = norm of the final projected gradient\n",
      "F     = final function value\n",
      "\n",
      "           * * *\n",
      "\n",
      "   N    Tit     Tnf  Tnint  Skip  Nact     Projg        F\n",
      "   59     75     82      1     0     0   1.369D-02   2.179D+00\n",
      "  F =   2.1787226309755208     \n",
      "\n",
      "STOP: TOTAL NO. of ITERATIONS REACHED LIMIT                 \n"
     ]
    }
   ],
   "source": [
    "sarimax_model = SARIMAX(y_train, \n",
    "                order=(3, 0, 0),\n",
    "                seasonal_order=(0, 1, 2, 12),  # seasonal AR, seasonal differencing, seasonal MA, period\n",
    "                enforce_stationarity=False,    # Allow non-stationarity\n",
    "                enforce_invertibility=False,   # Allow non-invertibility\n",
    "                exog=X_train_scaled)\n",
    "sarimax_model_fit = sarimax_model.fit(maxiter=75)\n",
    "y_pred = sarimax_model_fit.forecast(len(y_test), exog=X_test_scaled)\n",
    "mae = mean_absolute_error(y_test, y_pred)"
   ]
  },
  {
   "cell_type": "code",
   "execution_count": 48,
   "metadata": {},
   "outputs": [
    {
     "name": "stdout",
     "output_type": "stream",
     "text": [
      "SARIMAX Test MAE: 12.024\n"
     ]
    },
    {
     "data": {
      "image/png": "[encoded data removed]",
      "text/plain": [
       "<Figure size 640x480 with 1 Axes>"
      ]
     },
     "metadata": {},
     "output_type": "display_data"
    }
   ],
   "source": [
    "print('SARIMAX Test MAE: %.3f' % mae)\n",
    "plt.plot(y_test, label = 'Actual')\n",
    "plt.plot(y_pred, label = 'Predicted')\n",
    "plt.legend()\n",
    "plt.show()"
   ]
  },
  {
   "cell_type": "markdown",
   "metadata": {},
   "source": [
    "#### SARIMAX (exog not scaled)"
   ]
  },
  {
   "cell_type": "code",
   "execution_count": 79,
   "metadata": {},
   "outputs": [
    {
     "name": "stderr",
     "output_type": "stream",
     "text": [
      "/Users/xaviersan/.pyenv/versions/brent/lib/python3.11/site-packages/statsmodels/tsa/base/tsa_model.py:473: ValueWarning: No frequency information was provided, so inferred frequency MS will be used.\n",
      "  self._init_dates(dates, freq)\n",
      "/Users/xaviersan/.pyenv/versions/brent/lib/python3.11/site-packages/statsmodels/tsa/base/tsa_model.py:473: ValueWarning: No frequency information was provided, so inferred frequency MS will be used.\n",
      "  self._init_dates(dates, freq)\n",
      " This problem is unconstrained.\n"
     ]
    },
    {
     "name": "stdout",
     "output_type": "stream",
     "text": [
      "RUNNING THE L-BFGS-B CODE\n",
      "\n",
      "           * * *\n",
      "\n",
      "Machine precision = 2.220D-16\n",
      " N =           59     M =           10\n",
      "\n",
      "At X0         0 variables are exactly at the bounds\n",
      "\n",
      "At iterate    0    f=  2.29595D+00    |proj g|=  2.68716D+02\n",
      "\n",
      "At iterate    5    f=  2.28656D+00    |proj g|=  1.38683D+01\n",
      "\n",
      "At iterate   10    f=  2.27134D+00    |proj g|=  4.54692D+00\n"
     ]
    },
    {
     "name": "stderr",
     "output_type": "stream",
     "text": [
      "\n",
      " Bad direction in the line search;\n",
      "   refresh the lbfgs memory and restart the iteration.\n",
      "/Users/xaviersan/.pyenv/versions/brent/lib/python3.11/site-packages/statsmodels/base/model.py:607: ConvergenceWarning: Maximum Likelihood optimization failed to converge. Check mle_retvals\n",
      "  warnings.warn(\"Maximum Likelihood optimization failed to \"\n",
      "\n",
      " Line search cannot locate an adequate point after MAXLS\n",
      "  function and gradient evaluations.\n",
      "  Previous x, f and g restored.\n",
      " Possible causes: 1 error in function or gradient evaluation;\n",
      "                  2 rounding error dominate computation.\n"
     ]
    },
    {
     "name": "stdout",
     "output_type": "stream",
     "text": [
      "\n",
      "           * * *\n",
      "\n",
      "Tit   = total number of iterations\n",
      "Tnf   = total number of function evaluations\n",
      "Tnint = total number of segments explored during Cauchy searches\n",
      "Skip  = number of BFGS updates skipped\n",
      "Nact  = number of active bounds at final generalized Cauchy point\n",
      "Projg = norm of the final projected gradient\n",
      "F     = final function value\n",
      "\n",
      "           * * *\n",
      "\n",
      "   N    Tit     Tnf  Tnint  Skip  Nact     Projg        F\n",
      "   59     13     55      2     0     0   1.101D+01   2.268D+00\n",
      "  F =   2.2678025346901589     \n",
      "\n",
      "ABNORMAL_TERMINATION_IN_LNSRCH                              \n",
      "SARIMAX Test MAE: 12.083\n"
     ]
    }
   ],
   "source": [
    "sarimax_model = SARIMAX(y_train, \n",
    "                order=(3, 0, 0),\n",
    "                seasonal_order=(0, 1, 2, 12),  # seasonal AR, seasonal differencing, seasonal MA, period\n",
    "                enforce_stationarity=False,    # Allow non-stationarity\n",
    "                enforce_invertibility=False,   # Allow non-invertibility\n",
    "                exog=X_train)\n",
    "sarimax_model_fit = sarimax_model.fit(maxiter=75)\n",
    "y_pred = sarimax_model_fit.forecast(len(y_test), exog=X_test)\n",
    "mae = mean_absolute_error(y_test, y_pred)\n",
    "print('SARIMAX Test MAE: %.3f' % mae)"
   ]
  },
  {
   "cell_type": "markdown",
   "metadata": {},
   "source": [
    "In this case, the lack of scaling lead to convergence failure of the Maximum Likelihood Estimators. This is possibly due to scaling issues. We also notice minor better performance of the scaled model."
   ]
  },
  {
   "cell_type": "markdown",
   "metadata": {},
   "source": [
    "### Summary"
   ]
  },
  {
   "cell_type": "markdown",
   "metadata": {},
   "source": [
    "We observe that the MAEs of the ML models in this notebook (~11-13) are much higher than the LSTM model's MAE of ~ 3. This showcases the LSTM model's proficiency in handling long-term dependencies and non-linear relationships.\n",
    "\n",
    "The next steps could be to do the following:\n",
    "1. Experiment with more advanced LSTM Architecture (e.g. LSTM with attention mechanism)\n",
    "2. Combine LSTM with other models to capture both short-term linear trends and non-linear long-term dependencies effectively (e.g. Model short-term patterns with other ML model, then pass the residuals to the LSTM model to learn the non-linear long-term dependencies)\n",
    "3. Explore relationships between POILBRE and other variables, reduce dimensions or feature engineer to improve accuracy"
   ]
  },
  {
   "cell_type": "code",
   "execution_count": null,
   "metadata": {},
   "outputs": [],
   "source": []
  }
 ],
 "metadata": {
  "kernelspec": {
   "display_name": "Brent Crude Oil Prices (Poetry)",
   "language": "python",
   "name": "poetry-brent-crude-oil-prices"
  },
  "language_info": {
   "codemirror_mode": {
    "name": "ipython",
    "version": 3
   },
   "file_extension": ".py",
   "mimetype": "text/x-python",
   "name": "python",
   "nbconvert_exporter": "python",
   "pygments_lexer": "ipython3",
   "version": "3.11.9"
  }
 },
 "nbformat": 4,
 "nbformat_minor": 2
}
